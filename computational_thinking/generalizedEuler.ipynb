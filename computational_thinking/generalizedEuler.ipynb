{
  "nbformat": 4,
  "nbformat_minor": 0,
  "metadata": {
    "colab": {
      "provenance": []
    },
    "kernelspec": {
      "name": "python3",
      "display_name": "Python 3"
    },
    "language_info": {
      "name": "python"
    }
  },
  "cells": [
    {
      "cell_type": "code",
      "execution_count": 1,
      "metadata": {
        "colab": {
          "base_uri": "https://localhost:8080/"
        },
        "id": "a2UN_XCPLzlo",
        "outputId": "cb920db5-a7ea-4a44-c060-586a882de276"
      },
      "outputs": [
        {
          "output_type": "stream",
          "name": "stdout",
          "text": [
            "233168\n"
          ]
        }
      ],
      "source": [
        "def euler001(limit: int) -> int:\n",
        "    sum_multiples = sum(i for i in range(limit) if i % 3 == 0 or i % 5 == 0)\n",
        "    return sum_multiples\n",
        "\n",
        "# Test the function\n",
        "print(euler001(1000))  # Output: sum of all multiples of 3 or 5 below 1000"
      ]
    },
    {
      "cell_type": "code",
      "source": [
        "def gEuler001(ns: list[int], limit: int) -> int:\n",
        "    total_sum = sum(i for i in range(limit) if any(i % n == 0 for n in ns))\n",
        "    return total_sum\n",
        "\n",
        "# Test the function\n",
        "print(gEuler001([3, 5], 1000))  # Output: sum of all multiples of 3 or 5 below 1000"
      ],
      "metadata": {
        "colab": {
          "base_uri": "https://localhost:8080/"
        },
        "id": "YFHv_JsBL7S_",
        "outputId": "5861d00d-11fe-44a3-cf0d-861598ed65c6"
      },
      "execution_count": 2,
      "outputs": [
        {
          "output_type": "stream",
          "name": "stdout",
          "text": [
            "233168\n"
          ]
        }
      ]
    },
    {
      "cell_type": "code",
      "source": [
        "# Test case 1\n",
        "print(\"Test case 1:\")\n",
        "print(\"Expected output:\", sum(i for i in range(10) if i % 2 == 0 or i % 3 == 0))\n",
        "print(\"Actual output:\", gEuler001([2, 3], 10))"
      ],
      "metadata": {
        "colab": {
          "base_uri": "https://localhost:8080/"
        },
        "id": "gKWHq10_MIUW",
        "outputId": "b5cb2260-cf0a-4f9e-8e9b-1c8f85ccbc91"
      },
      "execution_count": 4,
      "outputs": [
        {
          "output_type": "stream",
          "name": "stdout",
          "text": [
            "Test case 1:\n",
            "Expected output: 32\n",
            "Actual output: 32\n"
          ]
        }
      ]
    },
    {
      "cell_type": "code",
      "source": [
        "# Test case 2\n",
        "print(\"Test case 2:\")\n",
        "print(\"Expected output:\", sum(i for i in range(50) if i % 7 == 0 or i % 11 == 0))\n",
        "print(\"Actual output:\", gEuler001([7, 11], 50))"
      ],
      "metadata": {
        "colab": {
          "base_uri": "https://localhost:8080/"
        },
        "id": "bCxAiR7_MyDN",
        "outputId": "1540d8b8-d060-4e13-955e-06f390ee38af"
      },
      "execution_count": 5,
      "outputs": [
        {
          "output_type": "stream",
          "name": "stdout",
          "text": [
            "Test case 2:\n",
            "Expected output: 306\n",
            "Actual output: 306\n"
          ]
        }
      ]
    },
    {
      "cell_type": "code",
      "source": [
        "# Test case 3\n",
        "print(\"Test case 3:\")\n",
        "print(\"Expected output:\", sum(i for i in range(100) if i % 2 == 0 or i % 5 == 0 or i % 7 == 0))\n",
        "print(\"Actual output:\", gEuler001([2, 5, 7], 100))"
      ],
      "metadata": {
        "colab": {
          "base_uri": "https://localhost:8080/"
        },
        "id": "nomu8HGIM06G",
        "outputId": "f0849412-ba6f-41b6-e651-c0f4bbecc4b5"
      },
      "execution_count": 6,
      "outputs": [
        {
          "output_type": "stream",
          "name": "stdout",
          "text": [
            "Test case 3:\n",
            "Expected output: 3258\n",
            "Actual output: 3258\n"
          ]
        }
      ]
    },
    {
      "cell_type": "code",
      "source": [
        "# Test case 4\n",
        "print(\"Test case 4:\")\n",
        "print(\"Expected output:\", sum(i for i in range(30) if i % 3 == 0 or i % 4 == 0 or i % 9 == 0))\n",
        "print(\"Actual output:\", gEuler001([3, 4, 9], 30))"
      ],
      "metadata": {
        "colab": {
          "base_uri": "https://localhost:8080/"
        },
        "id": "0cGMSpQrM3WL",
        "outputId": "8964cb44-8213-4851-f1ff-700573c625d9"
      },
      "execution_count": 7,
      "outputs": [
        {
          "output_type": "stream",
          "name": "stdout",
          "text": [
            "Test case 4:\n",
            "Expected output: 211\n",
            "Actual output: 211\n"
          ]
        }
      ]
    },
    {
      "cell_type": "code",
      "source": [
        "# Test case 5\n",
        "print(\"Test case 5:\")\n",
        "print(\"Expected output:\", sum(i for i in range(1000) if i % 2 == 0 or i % 3 == 0 or i % 5 == 0 or i % 7 == 0 or i % 11 == 0))\n",
        "print(\"Actual output:\", gEuler001([2, 3, 5, 7, 11], 1000))"
      ],
      "metadata": {
        "colab": {
          "base_uri": "https://localhost:8080/"
        },
        "id": "7u32D81jM53T",
        "outputId": "f832afd5-13da-4df9-b75f-b9e327c05f42"
      },
      "execution_count": 8,
      "outputs": [
        {
          "output_type": "stream",
          "name": "stdout",
          "text": [
            "Test case 5:\n",
            "Expected output: 396205\n",
            "Actual output: 396205\n"
          ]
        }
      ]
    },
    {
      "cell_type": "code",
      "source": [
        "# Edge case 1: ns empty list\n",
        "print(\"Edge case 1:\")\n",
        "print(\"Expected output:\", 0)  # No multiples to sum\n",
        "print(\"Actual output:\", gEuler001([], 10))"
      ],
      "metadata": {
        "colab": {
          "base_uri": "https://localhost:8080/"
        },
        "id": "cx3USAqlMGT0",
        "outputId": "55a1e407-5643-4cfa-8937-25c0e7a02606"
      },
      "execution_count": 9,
      "outputs": [
        {
          "output_type": "stream",
          "name": "stdout",
          "text": [
            "Edge case 1:\n",
            "Expected output: 0\n",
            "Actual output: 0\n"
          ]
        }
      ]
    },
    {
      "cell_type": "code",
      "source": [
        "# Edge case 2: limit equals 0\n",
        "print(\"Edge case 2:\")\n",
        "print(\"Expected output:\", 0)  # No multiples to sum\n",
        "print(\"Actual output:\", gEuler001([2, 3], 0))"
      ],
      "metadata": {
        "colab": {
          "base_uri": "https://localhost:8080/"
        },
        "id": "bq4_nKM3NGOQ",
        "outputId": "c370e915-d756-41a0-ccf9-9d6129fb7c2e"
      },
      "execution_count": 10,
      "outputs": [
        {
          "output_type": "stream",
          "name": "stdout",
          "text": [
            "Edge case 2:\n",
            "Expected output: 0\n",
            "Actual output: 0\n"
          ]
        }
      ]
    },
    {
      "cell_type": "code",
      "source": [
        "# Edge case 3: Large limit and small ns\n",
        "print(\"Edge case 3:\")\n",
        "print(\"Expected output:\", sum(i for i in range(1000000) if i % 2 == 0))\n",
        "print(\"Actual output:\", gEuler001([2], 1000000))"
      ],
      "metadata": {
        "colab": {
          "base_uri": "https://localhost:8080/"
        },
        "id": "XF8POixPNIzq",
        "outputId": "4308e167-4d76-427a-87ec-bda6bf362f39"
      },
      "execution_count": 11,
      "outputs": [
        {
          "output_type": "stream",
          "name": "stdout",
          "text": [
            "Edge case 3:\n",
            "Expected output: 249999500000\n",
            "Actual output: 249999500000\n"
          ]
        }
      ]
    },
    {
      "cell_type": "code",
      "source": [
        "print(\"Edge case 4:\")\n",
        "print(\"Expected output:\", 0)  # No multiples to sum\n",
        "print(\"Actual output:\", gEuler001([1000000, 2000000], 10))"
      ],
      "metadata": {
        "colab": {
          "base_uri": "https://localhost:8080/"
        },
        "id": "uJJ4Y-gDNKv1",
        "outputId": "55ce3bef-8b01-45e5-c893-cf6928693139"
      },
      "execution_count": 12,
      "outputs": [
        {
          "output_type": "stream",
          "name": "stdout",
          "text": [
            "Edge case 4:\n",
            "Expected output: 0\n",
            "Actual output: 0\n"
          ]
        }
      ]
    },
    {
      "cell_type": "code",
      "source": [
        "# Edge case 5: Negative limit and ns\n",
        "print(\"Edge case 5:\")\n",
        "print(\"Expected output:\", 0)  # No multiples to sum\n",
        "print(\"Actual output:\", gEuler001([-2, -3], -10))"
      ],
      "metadata": {
        "colab": {
          "base_uri": "https://localhost:8080/"
        },
        "id": "otqDl68ZNM-O",
        "outputId": "e66e3d0b-8603-4b13-92fb-9ce671c07271"
      },
      "execution_count": 13,
      "outputs": [
        {
          "output_type": "stream",
          "name": "stdout",
          "text": [
            "Edge case 5:\n",
            "Expected output: 0\n",
            "Actual output: 0\n"
          ]
        }
      ]
    },
    {
      "cell_type": "code",
      "source": [
        "def gEuler001B(ns: list[int], limit: int) -> int:\n",
        "    multiples_set = set()\n",
        "    for num in ns:\n",
        "        multiples_set |= set(range(num, limit, num))\n",
        "    return sum(multiples_set)\n",
        "\n",
        "# Test the function\n",
        "print(gEuler001B([3, 5], 1000))  # Output: sum of all multiples of 3 or 5 below 1000"
      ],
      "metadata": {
        "colab": {
          "base_uri": "https://localhost:8080/"
        },
        "id": "mlOhOuisOBrB",
        "outputId": "f6756729-c6a4-4e3d-8813-505add96735c"
      },
      "execution_count": 19,
      "outputs": [
        {
          "output_type": "stream",
          "name": "stdout",
          "text": [
            "233168\n"
          ]
        }
      ]
    },
    {
      "cell_type": "code",
      "source": [
        "# Edge case 1: ns empty list\n",
        "print(\"Edge case 1:\")\n",
        "print(\"Expected output:\", 0)  # No multiples to sum\n",
        "print(\"Actual output:\", gEuler001B([], 10))\n",
        "print()\n",
        "\n",
        "# Edge case 2: limit equals 0\n",
        "print(\"Edge case 2:\")\n",
        "print(\"Expected output:\", 0)  # No multiples to sum\n",
        "print(\"Actual output:\", gEuler001B([2, 3], 0))\n",
        "print()\n",
        "\n",
        "# Edge case 3: Large limit and small ns\n",
        "print(\"Edge case 3:\")\n",
        "print(\"Expected output:\", sum(i for i in range(1000000) if i % 2 == 0))\n",
        "print(\"Actual output:\", gEuler001B([2], 1000000))\n",
        "print()\n",
        "\n",
        "# Edge case 4: Large ns and small limit\n",
        "print(\"Edge case 4:\")\n",
        "print(\"Expected output:\", 0)  # No multiples to sum\n",
        "print(\"Actual output:\", gEuler001B([1000000, 2000000], 10))\n",
        "print()"
      ],
      "metadata": {
        "colab": {
          "base_uri": "https://localhost:8080/"
        },
        "id": "4FojrDi0ODDB",
        "outputId": "9cc8d983-1122-4226-f3ce-819982cb7f11"
      },
      "execution_count": 21,
      "outputs": [
        {
          "output_type": "stream",
          "name": "stdout",
          "text": [
            "Edge case 1:\n",
            "Expected output: 0\n",
            "Actual output: 0\n",
            "\n",
            "Edge case 2:\n",
            "Expected output: 0\n",
            "Actual output: 0\n",
            "\n",
            "Edge case 3:\n",
            "Expected output: 249999500000\n",
            "Actual output: 249999500000\n",
            "\n",
            "Edge case 4:\n",
            "Expected output: 0\n",
            "Actual output: 0\n",
            "\n"
          ]
        }
      ]
    }
  ]
}